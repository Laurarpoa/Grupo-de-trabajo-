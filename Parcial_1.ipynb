{
  "nbformat": 4,
  "nbformat_minor": 0,
  "metadata": {
    "colab": {
      "provenance": [],
      "include_colab_link": true
    },
    "kernelspec": {
      "name": "python3",
      "display_name": "Python 3"
    },
    "language_info": {
      "name": "python"
    }
  },
  "cells": [
    {
      "cell_type": "markdown",
      "metadata": {
        "id": "view-in-github",
        "colab_type": "text"
      },
      "source": [
        "<a href=\"https://colab.research.google.com/github/Laurarpoa/Grupo-de-trabajo-/blob/main/Parcial_1.ipynb\" target=\"_parent\"><img src=\"https://colab.research.google.com/assets/colab-badge.svg\" alt=\"Open In Colab\"/></a>"
      ]
    },
    {
      "cell_type": "code",
      "execution_count": null,
      "metadata": {
        "id": "9DiKjNkJDzQx"
      },
      "outputs": [],
      "source": [
        "# Parcial 1. Laura Restrepo, Tatiana Monteagudo, Mateo Marín, Esteban Ramirez\n",
        "\n",
        "import numpy as np\n",
        "import pandas as pd\n"
      ]
    },
    {
      "cell_type": "code",
      "source": [
        "#1. Crea un array de NumPy con los números del 1 al 100 e imprime los múltiplos de 7.\n",
        "\n",
        "arr1=np.arange(1,101)\n",
        "print(\"Múltiplos de 7:\")\n",
        "print(arr1[arr1%7==0])"
      ],
      "metadata": {
        "colab": {
          "base_uri": "https://localhost:8080/"
        },
        "id": "oc5H31vNFATk",
        "outputId": "485e8a26-fa9f-4d2e-b948-3ad772dd7eb8"
      },
      "execution_count": null,
      "outputs": [
        {
          "output_type": "stream",
          "name": "stdout",
          "text": [
            "Múltiplos de 7:\n",
            "[ 7 14 21 28 35 42 49 56 63 70 77 84 91 98]\n"
          ]
        }
      ]
    },
    {
      "cell_type": "code",
      "source": [
        "#2. Crea una matriz de 4x4 con números aleatorios enteros entre 10 y 50. Luego reemplaza los valores impares por -1.\n",
        "\n",
        "matriz1 = np.random.randint(10,51,size=(4,4))\n",
        "print(matriz1)\n",
        "\n",
        "matriz1[matriz1%2!=0] = -1\n",
        "print(\"\\nNúmeros impares(-1)\")\n",
        "print (matriz1)"
      ],
      "metadata": {
        "colab": {
          "base_uri": "https://localhost:8080/"
        },
        "id": "Wy63AcCGFtHb",
        "outputId": "65912ba2-7882-43b6-e2db-3761a4d71fec"
      },
      "execution_count": null,
      "outputs": [
        {
          "output_type": "stream",
          "name": "stdout",
          "text": [
            "[[12 37 35 39]\n",
            " [22 22 11 46]\n",
            " [47 11 45 35]\n",
            " [20 17 49 31]]\n",
            "\n",
            "Números impares(-1)\n",
            "[[12 -1 -1 -1]\n",
            " [22 22 -1 46]\n",
            " [-1 -1 -1 -1]\n",
            " [20 -1 -1 -1]]\n"
          ]
        }
      ]
    },
    {
      "cell_type": "code",
      "source": [
        "#3. Genera una matriz de 5x5 con valores entre 0 y 1 distribuidos uniformemente. Luego, calcula la suma por columnas.\n",
        "\n",
        "matriz2 = np.random.uniform(0,1,size=(5,5))\n",
        "print(matriz2)\n",
        "\n",
        "suma_columnas = np.sum(matriz2,axis=0)\n",
        "print(\"\\nSuma de columnas:\")\n",
        "print(suma_columnas)"
      ],
      "metadata": {
        "colab": {
          "base_uri": "https://localhost:8080/"
        },
        "id": "rvNNWXxVGvwk",
        "outputId": "935df345-228d-42f6-e548-9651cb7666d3"
      },
      "execution_count": null,
      "outputs": [
        {
          "output_type": "stream",
          "name": "stdout",
          "text": [
            "[[0.67753161 0.37312262 0.94169199 0.16735703 0.50035945]\n",
            " [0.69088398 0.69713581 0.64863896 0.27528821 0.15620657]\n",
            " [0.63594033 0.59930212 0.17935601 0.70513915 0.45517199]\n",
            " [0.66776059 0.83736708 0.16972843 0.01914487 0.77910259]\n",
            " [0.60969743 0.69963957 0.83815497 0.80281093 0.96092015]]\n",
            "\n",
            "Suma de columnas:\n",
            "[3.28181393 3.20656719 2.77757036 1.96974019 2.85176074]\n"
          ]
        }
      ]
    },
    {
      "cell_type": "code",
      "source": [
        "#4. Dado un array arr = np.array([1, 2, 3, 4, 5]), obtén su versión invertida.\n",
        "\n",
        "arr2 = np.array([1,2,3,4,5])\n",
        "print(arr2)\n",
        "\n",
        "arr2_invertido = arr2[::-1]\n",
        "print(\"Array invertido:\",(arr2_invertido))"
      ],
      "metadata": {
        "colab": {
          "base_uri": "https://localhost:8080/"
        },
        "id": "Nyf6d0PGG-Tx",
        "outputId": "317e8cec-049f-4ae3-e329-4d2a370663d0"
      },
      "execution_count": null,
      "outputs": [
        {
          "output_type": "stream",
          "name": "stdout",
          "text": [
            "[1 2 3 4 5]\n",
            "Array invertido: [5 4 3 2 1]\n"
          ]
        }
      ]
    },
    {
      "cell_type": "code",
      "source": [
        "#5. Crea una matriz identidad de 6x6 y multiplícala por 3. ¿Qué observas?\n",
        "\n",
        "matriz3 = np.eye(6)\n",
        "print(matriz3)\n",
        "\n",
        "matriz3 = matriz3*3\n",
        "print(\"\\nMatriz multiplicada por 3:\")\n",
        "print(matriz3)\n",
        "\n",
        "#Los 1 fueron reemplazados por 3, sigue siendo diagonal."
      ],
      "metadata": {
        "colab": {
          "base_uri": "https://localhost:8080/"
        },
        "id": "j4V6-XpuId6j",
        "outputId": "2f748ec7-5384-4d64-c888-45d40a6b903c"
      },
      "execution_count": null,
      "outputs": [
        {
          "output_type": "stream",
          "name": "stdout",
          "text": [
            "[[1. 0. 0. 0. 0. 0.]\n",
            " [0. 1. 0. 0. 0. 0.]\n",
            " [0. 0. 1. 0. 0. 0.]\n",
            " [0. 0. 0. 1. 0. 0.]\n",
            " [0. 0. 0. 0. 1. 0.]\n",
            " [0. 0. 0. 0. 0. 1.]]\n",
            "\n",
            "Matriz multiplicada por 3:\n",
            "[[3. 0. 0. 0. 0. 0.]\n",
            " [0. 3. 0. 0. 0. 0.]\n",
            " [0. 0. 3. 0. 0. 0.]\n",
            " [0. 0. 0. 3. 0. 0.]\n",
            " [0. 0. 0. 0. 3. 0.]\n",
            " [0. 0. 0. 0. 0. 3.]]\n"
          ]
        }
      ]
    },
    {
      "cell_type": "code",
      "source": [
        "#6. Crea un array de 15 elementos entre 1 y 100 y ordénalo de mayor a menor.\n",
        "\n",
        "arr3 = np.random.randint(1,101,size=(15))\n",
        "print(arr3)\n",
        "\n",
        "arr3_ordenado = np.sort(arr3)[::-1]\n",
        "print(\"\\nArray ordenado de mayor a menor:\")\n",
        "print(arr3_ordenado)"
      ],
      "metadata": {
        "colab": {
          "base_uri": "https://localhost:8080/"
        },
        "id": "Xe6J0g8RKVvY",
        "outputId": "f7dee17c-0b85-42b4-b4e9-c37bc2985108"
      },
      "execution_count": null,
      "outputs": [
        {
          "output_type": "stream",
          "name": "stdout",
          "text": [
            "[21 12 50  4 42 84 38 25 14 75 32 11 61 18 27]\n",
            "\n",
            "Array ordenado de mayor a menor:\n",
            "[84 75 61 50 42 38 32 27 25 21 18 14 12 11  4]\n"
          ]
        }
      ]
    },
    {
      "cell_type": "code",
      "source": [
        "#7. Usa NumPy para calcular la media, la mediana y la desviación estándar de un array de 30 valores aleatorios entre 0 y 100.\n",
        "\n",
        "arr4 = np.random.randint(0,101,size=(30))\n",
        "print(arr4)\n",
        "\n",
        "media = np.mean(arr4)\n",
        "print(\"\\nMedia:\")\n",
        "print(media)\n",
        "\n",
        "mediana = np.median(arr4)\n",
        "print(\"\\nMediana:\")\n",
        "print(mediana)\n",
        "\n",
        "std = np.std(arr4)\n",
        "print(\"\\nDesviación estándar:\")\n",
        "print(std)"
      ],
      "metadata": {
        "colab": {
          "base_uri": "https://localhost:8080/"
        },
        "id": "R60dFE-mK1P8",
        "outputId": "c32196bf-34fe-47b6-b18c-875a767ee9db"
      },
      "execution_count": null,
      "outputs": [
        {
          "output_type": "stream",
          "name": "stdout",
          "text": [
            "[79 68 84  9 82 24 67 60 28 18 42 65 73 60 42 24 19 47 82 86 23 10 97 54\n",
            " 27 68 62 58  4 50]\n",
            "\n",
            "Media:\n",
            "50.4\n",
            "\n",
            "Mediana:\n",
            "56.0\n",
            "\n",
            "Desviación estándar:\n",
            "25.99564066018249\n"
          ]
        }
      ]
    },
    {
      "cell_type": "code",
      "source": [
        "#8. Crea un array bidimensional 6x3 con valores aleatorios y reemplaza la fila con el menor promedio por ceros.\n",
        "\n",
        "arr5 = np.random.rand(6,3)\n",
        "print(arr5)\n",
        "\n",
        "fila_menor = np.argmin(np.mean(arr5,axis=1))\n",
        "arr5[fila_menor] = 0\n",
        "print(\"\\nFila con el menor promedio reemplazada por ceros:\")\n",
        "print(arr5)"
      ],
      "metadata": {
        "colab": {
          "base_uri": "https://localhost:8080/"
        },
        "id": "ZcejTa50MOXk",
        "outputId": "5d75fe76-8361-4991-bf56-4fcdb7dda406"
      },
      "execution_count": null,
      "outputs": [
        {
          "output_type": "stream",
          "name": "stdout",
          "text": [
            "[[0.85812039 0.78377239 0.42898493]\n",
            " [0.20106515 0.51420104 0.73622888]\n",
            " [0.4364196  0.66677191 0.09432743]\n",
            " [0.74800474 0.81271362 0.70683786]\n",
            " [0.96726359 0.82665206 0.90309373]\n",
            " [0.93357108 0.80134799 0.67425884]]\n",
            "\n",
            "Fila con el menor promedio reemplazada por ceros:\n",
            "[[0.85812039 0.78377239 0.42898493]\n",
            " [0.20106515 0.51420104 0.73622888]\n",
            " [0.         0.         0.        ]\n",
            " [0.74800474 0.81271362 0.70683786]\n",
            " [0.96726359 0.82665206 0.90309373]\n",
            " [0.93357108 0.80134799 0.67425884]]\n"
          ]
        }
      ]
    },
    {
      "cell_type": "code",
      "source": [
        "#9. Crea un array 3x4 y aplica la función np.cumsum().\n",
        "\n",
        "arr6 = np.random.rand(3,4)\n",
        "print(arr6)\n",
        "\n",
        "arr6_filas = np.cumsum(arr6,axis=1)\n",
        "print(\"\\nArray con la función np.cumsum() por filas:\")\n",
        "print(arr6_filas)\n",
        "\n",
        "arr6_columnas = np.cumsum(arr6,axis=0)\n",
        "print(\"\\nArray con la función np.cumsum() por columnas:\")\n",
        "print(arr6_columnas)"
      ],
      "metadata": {
        "colab": {
          "base_uri": "https://localhost:8080/"
        },
        "id": "sxeYaIruNoXd",
        "outputId": "83fbfb5a-74bd-4c78-834f-a91f6583af30"
      },
      "execution_count": null,
      "outputs": [
        {
          "output_type": "stream",
          "name": "stdout",
          "text": [
            "[[0.98330566 0.78670834 0.77366256 0.74783857]\n",
            " [0.1506081  0.21723089 0.46399013 0.26400435]\n",
            " [0.41524097 0.88846411 0.82432689 0.63003988]]\n",
            "\n",
            "Array con la función np.cumsum() por filas:\n",
            "[[0.98330566 1.770014   2.54367656 3.29151514]\n",
            " [0.1506081  0.36783899 0.83182912 1.09583347]\n",
            " [0.41524097 1.30370508 2.12803197 2.75807185]]\n",
            "\n",
            "Array con la función np.cumsum() por columnas:\n",
            "[[0.98330566 0.78670834 0.77366256 0.74783857]\n",
            " [1.13391376 1.00393923 1.2376527  1.01184292]\n",
            " [1.54915473 1.89240334 2.06197959 1.6418828 ]]\n"
          ]
        }
      ]
    },
    {
      "cell_type": "code",
      "source": [
        "#10. Dado el siguiente array:\n",
        "#   arr = np.array([[10, 20, 30], [40, 50, 60], [70, 80, 90]])\n",
        "# Extrae solo los elementos de la diagonal principal.\n",
        "\n",
        "arr7 = np.array([[10, 20, 30], [40, 50, 60], [70, 80, 90]])\n",
        "print(arr7)\n",
        "\n",
        "diagonal = np.diagonal(arr7)\n",
        "print(\"\\nDiagonal principal:\")\n",
        "print(diagonal)"
      ],
      "metadata": {
        "colab": {
          "base_uri": "https://localhost:8080/"
        },
        "id": "gORIzENlOmjb",
        "outputId": "63f2173c-af74-40c0-f4b6-e8d8395ec080"
      },
      "execution_count": null,
      "outputs": [
        {
          "output_type": "stream",
          "name": "stdout",
          "text": [
            "[[10 20 30]\n",
            " [40 50 60]\n",
            " [70 80 90]]\n",
            "\n",
            "Diagonal principal:\n",
            "[10 50 90]\n"
          ]
        }
      ]
    },
    {
      "cell_type": "code",
      "source": [
        "#11. Crea un DataFrame con las columnas: Nombre, Edad, Ciudad, Salario con al menos 5 registros. Filtra los registros con salario mayor a 2.000.000.\n",
        "\n",
        "# Crear el DataFrame\n",
        "data = {\n",
        "    'Nombre': ['Camila', 'Sigilfredo', 'Raul', 'Ernesto', 'Juan', 'Axel','Ricardo','Eva','Alicia','Gloria'],\n",
        "    'Edad': [18, 24, 65, 70,30,22,57,78, 44, 33],\n",
        "    'Ciudad': ['Santander', 'Ocaña', 'San andres', 'Barranquilla', 'Cartagena','Popayan','Cali','Medellin','Turbo','Santa Marta' ],\n",
        "    'Salario': [1800000, 2500000, 2200000, 1900000, 3000000,5500000,1000000,9900000,3800000,6700000]\n",
        "}\n",
        "\n",
        "df = pd.DataFrame(data)\n",
        "\n",
        "# Filtrar los registros con salario mayor a 2.000.000\n",
        "salario_alto = df[df['Salario'] > 2000000]\n",
        "print(salario_alto)"
      ],
      "metadata": {
        "colab": {
          "base_uri": "https://localhost:8080/"
        },
        "id": "uqyi7z3JPlij",
        "outputId": "3bee0780-c27b-4460-839e-d3b2d4c922d0"
      },
      "execution_count": null,
      "outputs": [
        {
          "output_type": "stream",
          "name": "stdout",
          "text": [
            "       Nombre  Edad       Ciudad  Salario\n",
            "1  Sigilfredo    24        Ocaña  2500000\n",
            "2        Raul    65   San andres  2200000\n",
            "4        Juan    30    Cartagena  3000000\n",
            "5        Axel    22      Popayan  5500000\n",
            "7         Eva    78     Medellin  9900000\n",
            "8      Alicia    44        Turbo  3800000\n",
            "9      Gloria    33  Santa Marta  6700000\n"
          ]
        }
      ]
    },
    {
      "cell_type": "code",
      "source": [
        "#12. Importa un CSV desde una URL o archivo local y muestra las 10 primeras filas y las 5 últimas.\n",
        "\n",
        "# URL de ejemplo con datos públicos\n",
        "url = \"https://www.datos.gov.co/resource/fgk8-hnys.csv\"\n",
        "\n",
        "# Leer el archivo CSV desde la URL\n",
        "df = pd.read_csv(url)\n",
        "\n",
        "# Mostrar las 10 primeras filas\n",
        "print(\"Primeras 10 filas:\")\n",
        "print(df.head(10))\n",
        "\n",
        "# Mostrar las 5 últimas filas\n",
        "print(\"\\nÚltimas 5 filas:\")\n",
        "print(df.tail(5))"
      ],
      "metadata": {
        "colab": {
          "base_uri": "https://localhost:8080/"
        },
        "id": "CGEIvgWLQWDk",
        "outputId": "3c8c7097-014d-415e-e6f7-c3d203c99a92"
      },
      "execution_count": null,
      "outputs": [
        {
          "output_type": "stream",
          "name": "stdout",
          "text": [
            "Primeras 10 filas:\n",
            "   codigoprestador  codigohabilitacionsede  ese naturalezajuridica  \\\n",
            "0       9100100019            912630001911   SI            Pública   \n",
            "1       9100100019            914050001914   SI            Pública   \n",
            "2       9100100019            914070001915   SI            Pública   \n",
            "3       9100100019            914300001916   SI            Pública   \n",
            "4       9100100017            910010001701  NaN            Privada   \n",
            "5       9100100019            910010001901   SI            Pública   \n",
            "6       9100100022            910010002201   NO            Pública   \n",
            "7       9100100036            910010003601   NO            Privada   \n",
            "8       9100100037            910010003701   NO            Privada   \n",
            "9       9100100038            910010003801   NO            Privada   \n",
            "\n",
            "                                      claseprestador  \\\n",
            "0  Instituciones Prestadoras de Servicios de Salu...   \n",
            "1  Instituciones Prestadoras de Servicios de Salu...   \n",
            "2  Instituciones Prestadoras de Servicios de Salu...   \n",
            "3  Instituciones Prestadoras de Servicios de Salu...   \n",
            "4                          Profesional Independiente   \n",
            "5  Instituciones Prestadoras de Servicios de Salu...   \n",
            "6  Objeto Social Diferente a la Prestación de Ser...   \n",
            "7                          Profesional Independiente   \n",
            "8                          Profesional Independiente   \n",
            "9                          Profesional Independiente   \n",
            "\n",
            "                      fecha_corte_reps  \n",
            "0  Fecha corte REPS: Jul 4 2023 1:19PM  \n",
            "1  Fecha corte REPS: Jul 4 2023 1:19PM  \n",
            "2  Fecha corte REPS: Jul 4 2023 1:19PM  \n",
            "3  Fecha corte REPS: Jul 4 2023 1:19PM  \n",
            "4  Fecha corte REPS: Jul 4 2023 1:19PM  \n",
            "5  Fecha corte REPS: Jul 4 2023 1:19PM  \n",
            "6  Fecha corte REPS: Jul 4 2023 1:19PM  \n",
            "7  Fecha corte REPS: Jul 4 2023 1:19PM  \n",
            "8  Fecha corte REPS: Jul 4 2023 1:19PM  \n",
            "9  Fecha corte REPS: Jul 4 2023 1:19PM  \n",
            "\n",
            "Últimas 5 filas:\n",
            "     codigoprestador  codigohabilitacionsede  ese naturalezajuridica  \\\n",
            "995        508817527             50881752701  NaN            Privada   \n",
            "996        508817562             50881756201  NaN            Privada   \n",
            "997        508817608             50881760801  NaN            Privada   \n",
            "998        508817609             50881760901  NaN            Privada   \n",
            "999        508817672             50881767202  NaN            Privada   \n",
            "\n",
            "                claseprestador                     fecha_corte_reps  \n",
            "995  Profesional Independiente  Fecha corte REPS: Jul 4 2023 1:19PM  \n",
            "996  Profesional Independiente  Fecha corte REPS: Jul 4 2023 1:19PM  \n",
            "997  Profesional Independiente  Fecha corte REPS: Jul 4 2023 1:19PM  \n",
            "998  Profesional Independiente  Fecha corte REPS: Jul 4 2023 1:19PM  \n",
            "999  Profesional Independiente  Fecha corte REPS: Jul 4 2023 1:19PM  \n"
          ]
        }
      ]
    },
    {
      "cell_type": "code",
      "source": [
        "#13. A partir de un DataFrame con una columna de fechas, crea una nueva columna con el nombre del mes.\n",
        "\n",
        "# Crear un DataFrame con fechas\n",
        "data = {\n",
        "    'Fecha': ['2002-10-28', '2004-03-13', '2025-07-22', '2000-09-18', '1969-10-17', '1969-04-27']\n",
        "}\n",
        "df = pd.DataFrame(data)\n",
        "\n",
        "# Convertir la columna 'Fecha' a tipo datetime\n",
        "df['Fecha'] = pd.to_datetime(df['Fecha'])\n",
        "\n",
        "# Crear nueva columna con el nombre del mes\n",
        "df['Mes'] = df['Fecha'].dt.strftime('%B')\n",
        "print(df)"
      ],
      "metadata": {
        "colab": {
          "base_uri": "https://localhost:8080/"
        },
        "id": "sTsusGX-Q2nw",
        "outputId": "72a5d8be-61d1-45ff-8697-974ed9e7e25c"
      },
      "execution_count": null,
      "outputs": [
        {
          "output_type": "stream",
          "name": "stdout",
          "text": [
            "       Fecha        Mes\n",
            "0 2002-10-28    October\n",
            "1 2004-03-13      March\n",
            "2 2025-07-22       July\n",
            "3 2000-09-18  September\n",
            "4 1969-10-17    October\n",
            "5 1969-04-27      April\n"
          ]
        }
      ]
    },
    {
      "cell_type": "code",
      "source": [
        "#14. Agrupa un DataFrame por la columna Ciudad y calcula el salario promedio por ciudad.\n",
        "\n",
        "# Crear el DataFrame de ejemplo\n",
        "data = {\n",
        "    'Nombre': ['Evelyn', 'Ricardo', 'Jose', 'Marlon', 'Tatiana', 'Santiago','Mateo','David','Blanca','Leidy'],\n",
        "    'Edad': [18, 24, 65, 70,30,22,57,78, 44, 33],\n",
        "    'Ciudad': ['Santander', 'Ocaña', 'Santander', 'Cartagena', 'Cartagena','Ocaña','Cali','Medellin','Medellin','Cartagena'],\n",
        "    'Salario': [1850000, 2544000, 2257000, 8970000, 4532000,5546000,17860000,59430000,34890000,5700000]\n",
        "}\n",
        "\n",
        "df = pd.DataFrame(data)\n",
        "\n",
        "# Agrupar por ciudad y calcular el salario promedio\n",
        "salario_promedio = df.groupby('Ciudad')['Salario'].mean().reset_index()\n",
        "\n",
        "# Renombrar la columna para mayor claridad\n",
        "salario_promedio.columns = ['Ciudad', 'Salario Promedio']\n",
        "print(salario_promedio)"
      ],
      "metadata": {
        "colab": {
          "base_uri": "https://localhost:8080/"
        },
        "id": "qyarIzeLRIVf",
        "outputId": "e7bfcad7-06b5-47f4-ce9f-58e41db4f838"
      },
      "execution_count": null,
      "outputs": [
        {
          "output_type": "stream",
          "name": "stdout",
          "text": [
            "      Ciudad  Salario Promedio\n",
            "0       Cali      1.786000e+07\n",
            "1  Cartagena      6.400667e+06\n",
            "2   Medellin      4.716000e+07\n",
            "3      Ocaña      4.045000e+06\n",
            "4  Santander      2.053500e+06\n"
          ]
        }
      ]
    },
    {
      "cell_type": "code",
      "source": [
        "#15. Agrega una columna que indique si la persona es menor de 30 años (True o False).\n",
        "\n",
        "# Crear el DataFrame de ejemplo\n",
        "data = {\n",
        "    'Nombre': ['Evelyn', 'Ricardo', 'Jose', 'Marlon', 'Tatiana', 'Santiago','Mateo','David','Blanca','Leidy'],\n",
        "    'Edad': [18, 24, 65, 70,30,22,57,78, 44, 33],\n",
        "    'Ciudad': ['Santander', 'Ocaña', 'Santander', 'Cartagena', 'Cartagena','Ocaña','Cali','Medellin','Medellin','Cartagena'],\n",
        "    'Salario': [1850000, 2544000, 2257000, 8970000, 4532000,5546000,17860000,59430000,34890000,5700000]\n",
        "    }\n",
        "df = pd.DataFrame(data)\n",
        "\n",
        "# Agregar la columna 'Menor_30'\n",
        "df['Menor_30'] = df['Edad'] < 30\n",
        "print(df)"
      ],
      "metadata": {
        "colab": {
          "base_uri": "https://localhost:8080/"
        },
        "id": "MS6wYSb_R8eB",
        "outputId": "d5375e33-7f75-4de3-d4a3-b8f6e5f33e96"
      },
      "execution_count": null,
      "outputs": [
        {
          "output_type": "stream",
          "name": "stdout",
          "text": [
            "     Nombre  Edad     Ciudad   Salario  Menor_30\n",
            "0    Evelyn    18  Santander   1850000      True\n",
            "1   Ricardo    24      Ocaña   2544000      True\n",
            "2      Jose    65  Santander   2257000     False\n",
            "3    Marlon    70  Cartagena   8970000     False\n",
            "4   Tatiana    30  Cartagena   4532000     False\n",
            "5  Santiago    22      Ocaña   5546000      True\n",
            "6     Mateo    57       Cali  17860000     False\n",
            "7     David    78   Medellin  59430000     False\n",
            "8    Blanca    44   Medellin  34890000     False\n",
            "9     Leidy    33  Cartagena   5700000     False\n"
          ]
        }
      ]
    },
    {
      "cell_type": "code",
      "source": [
        "#16. Reemplaza todos los valores nulos de una columna llamada Salario por el promedio de esa columna.\n",
        "\n",
        "# DataFrame con algunos valores nulos en 'Salario'\n",
        "data = {\n",
        "    'Nombre': ['Max', 'Lisy', 'Edward', 'Martha', 'Carla'],\n",
        "    'Salario': [2345000, np.nan, 2234500, 9867000, np.nan]\n",
        "}\n",
        "\n",
        "df = pd.DataFrame(data)\n",
        "\n",
        "# Calcular el promedio de la columna 'Salario' (ignorando los NaN)\n",
        "promedio_salario = df['Salario'].mean()\n",
        "\n",
        "# Reemplazar los valores nulos con el promedio\n",
        "df['Salario'] = df['Salario'].fillna(promedio_salario)\n",
        "print(df)"
      ],
      "metadata": {
        "colab": {
          "base_uri": "https://localhost:8080/"
        },
        "id": "hXvdlxhjSI6l",
        "outputId": "8b8631e5-4c06-453c-c95b-4b161a290e0a"
      },
      "execution_count": null,
      "outputs": [
        {
          "output_type": "stream",
          "name": "stdout",
          "text": [
            "   Nombre    Salario\n",
            "0     Max  2345000.0\n",
            "1    Lisy  4815500.0\n",
            "2  Edward  2234500.0\n",
            "3  Martha  9867000.0\n",
            "4   Carla  4815500.0\n"
          ]
        }
      ]
    },
    {
      "cell_type": "code",
      "source": [
        "#17. Crea un DataFrame con columnas duplicadas y elimina las duplicadas dejando solo una copia.\n",
        "\n",
        "# Crear un DataFrame con columnas duplicadas\n",
        "df = pd.DataFrame([\n",
        "    ['Evelyn', 34, 34, 'Bogotá'],\n",
        "    ['Maria', 21, 21, 'Medellín'],\n",
        "    ['Esperanza', 88, 88, 'Cali']\n",
        "], columns=['Nombre', 'Edad', 'Edad', 'Ciudad'])  # dos columnas llamadas 'Edad'\n",
        "\n",
        "# Mostrar el DataFrame con columnas duplicadas\n",
        "print(\"Antes:\")\n",
        "print (df)\n",
        "\n",
        "# Eliminar columnas duplicadas por nombre\n",
        "df = df.loc[:, ~df.columns.duplicated()]\n",
        "\n",
        "# Mostrar el DataFrame ya corregido\n",
        "print(\"\\nDespués:\")\n",
        "print(df)"
      ],
      "metadata": {
        "colab": {
          "base_uri": "https://localhost:8080/"
        },
        "id": "k7G9rFhuSYr8",
        "outputId": "e7c0ea8f-2f67-47f4-caf5-e91daf260569"
      },
      "execution_count": null,
      "outputs": [
        {
          "output_type": "stream",
          "name": "stdout",
          "text": [
            "Antes:\n",
            "      Nombre  Edad  Edad    Ciudad\n",
            "0     Evelyn    34    34    Bogotá\n",
            "1      Maria    21    21  Medellín\n",
            "2  Esperanza    88    88      Cali\n",
            "\n",
            "Después:\n",
            "      Nombre  Edad    Ciudad\n",
            "0     Evelyn    34    Bogotá\n",
            "1      Maria    21  Medellín\n",
            "2  Esperanza    88      Cali\n"
          ]
        }
      ]
    },
    {
      "cell_type": "code",
      "source": [
        "#18. Ordena un DataFrame por dos columnas: primero por Ciudad alfabéticamente y luego por Edad de mayor a menor.\n",
        "\n",
        " # Crear un DataFrame de ejemplo\n",
        "data = {\n",
        "    'Nombre': ['Facundo', 'Federico', 'Tomas', 'Ezequiel', 'Vanessa', 'Estefania'],\n",
        "    'Edad': [34, 12, 65, 56, 89,44],\n",
        "    'Ciudad': ['Bogotá', 'Medellín', 'Cali', 'Bogotá', 'Cali', 'Medellín']\n",
        "}\n",
        "\n",
        "df = pd.DataFrame(data)\n",
        "\n",
        "# Ordenar por 'Ciudad' (ascendente) y luego por 'Edad' (descendente)\n",
        "df_ordenado = df.sort_values(by=['Ciudad', 'Edad'], ascending=[True, False])\n",
        "\n",
        "print(df_ordenado)"
      ],
      "metadata": {
        "colab": {
          "base_uri": "https://localhost:8080/"
        },
        "id": "_LGtn53tS2jX",
        "outputId": "3460c3a6-52ed-49e7-f56f-cfb72f029f52"
      },
      "execution_count": null,
      "outputs": [
        {
          "output_type": "stream",
          "name": "stdout",
          "text": [
            "      Nombre  Edad    Ciudad\n",
            "3   Ezequiel    56    Bogotá\n",
            "0    Facundo    34    Bogotá\n",
            "4    Vanessa    89      Cali\n",
            "2      Tomas    65      Cali\n",
            "5  Estefania    44  Medellín\n",
            "1   Federico    12  Medellín\n"
          ]
        }
      ]
    },
    {
      "cell_type": "code",
      "source": [
        "#19. Agrupa por Producto, calcula el ingreso total (Precio * Cantidad) por producto y ordénalo de mayor a menor.\n",
        "\n",
        "# Crear el DataFrame\n",
        "df = pd.DataFrame({\n",
        "    'Producto': ['A', 'B', 'A', 'C', 'B', 'A'],\n",
        "    'Precio': [1200, 1500, 1300, 1000, 1600, 1250],\n",
        "    'Cantidad': [3, 2, 5, 1, 2, 4]\n",
        "})\n",
        "\n",
        "# Calcular ingreso por fila (Precio * Cantidad)\n",
        "df['Ingreso'] = df['Precio'] * df['Cantidad']\n",
        "\n",
        "# Agrupar por producto y sumar ingresos\n",
        "ingresos_por_producto = df.groupby('Producto')['Ingreso'].sum().reset_index()\n",
        "\n",
        "# Ordenar de mayor a menor ingreso\n",
        "ingresos_por_producto = ingresos_por_producto.sort_values(by='Ingreso', ascending=False)\n",
        "\n",
        "print(ingresos_por_producto)"
      ],
      "metadata": {
        "colab": {
          "base_uri": "https://localhost:8080/"
        },
        "id": "R2YIIjI9TCwS",
        "outputId": "d4304f25-3581-47d3-af17-f05abeef15d4"
      },
      "execution_count": null,
      "outputs": [
        {
          "output_type": "stream",
          "name": "stdout",
          "text": [
            "  Producto  Ingreso\n",
            "0        A    15100\n",
            "1        B     6200\n",
            "2        C     1000\n"
          ]
        }
      ]
    },
    {
      "cell_type": "code",
      "source": [
        "#20. Con un DataFrame de 1000 registros de ventas simuladas (puedes generarlo con datos aleatorios que incluyan columnas como fecha, producto, cantidad, precio_unitario, zona), responde:\n",
        "\n",
        "# Fijar semilla\n",
        "np.random.seed(42)\n",
        "fechas = pd.date_range('2002-10-28', '2004-03-13')\n",
        "productos = [\"Suavitel\", \"Fabuloso\", \"Axión\", \"Dawn\"]\n",
        "zonas = [\"Bello\", \"Envigado\", \"Conquistadores\", \"San javier\"]\n",
        "\n",
        "# Simular 1000 registros\n",
        "n = 1000\n",
        "ventas = pd.DataFrame({\n",
        "    'fecha': np.random.choice(fechas, 1000),\n",
        "    'producto': np.random.choice(productos, 1000),\n",
        "    'cantidad': np.random.randint(1, 10, 1000),\n",
        "    'precio_unitario': np.random.randint(800, 5000, 1000),\n",
        "    'zona': np.random.choice(zonas, 1000)\n",
        "})\n",
        "\n",
        "# Calcular ingreso por fila\n",
        "ventas['ingreso'] = ventas['cantidad'] * ventas['precio_unitario']\n",
        "print(ventas.head())\n",
        "\n",
        "# Producto más vendido por zona\n",
        "prod_zona = ventas.groupby(['zona', 'producto'])['cantidad'].sum().reset_index()\n",
        "mas_vendido_zona = prod_zona.loc[prod_zona.groupby('zona')['cantidad'].idxmax()]\n",
        "print(\"\\nProducto más vendido por zona:\")\n",
        "print(mas_vendido_zona)\n",
        "\n",
        "# Día del mes con más ingresos\n",
        "ventas['dia'] = ventas['fecha'].dt.day\n",
        "ingresos_dia = ventas.groupby('dia')['ingreso'].sum()\n",
        "dia_max_ingresos = ingresos_dia.idxmax()\n",
        "print(\"\\nDía con más ingresos:\")\n",
        "print(dia_max_ingresos)\n"
      ],
      "metadata": {
        "colab": {
          "base_uri": "https://localhost:8080/"
        },
        "id": "rK6eKwHCTL92",
        "outputId": "4b81b200-faa7-4a18-ad35-1ea532b82c9b"
      },
      "execution_count": null,
      "outputs": [
        {
          "output_type": "stream",
          "name": "stdout",
          "text": [
            "       fecha  producto  cantidad  precio_unitario        zona  ingreso\n",
            "0 2003-02-07  Suavitel         7             1837    Envigado    12859\n",
            "1 2004-01-06  Suavitel         1             4289  San javier     4289\n",
            "2 2003-10-11     Axión         7             3434       Bello    24038\n",
            "3 2003-07-25      Dawn         5             4783       Bello    23915\n",
            "4 2003-02-11  Suavitel         6             2578  San javier    15468\n",
            "\n",
            "Producto más vendido por zona:\n",
            "              zona  producto  cantidad\n",
            "0            Bello     Axión       398\n",
            "6   Conquistadores  Fabuloso       402\n",
            "8         Envigado     Axión       342\n",
            "14      San javier  Fabuloso       308\n",
            "\n",
            "Día con más ingresos:\n",
            "17\n"
          ]
        }
      ]
    }
  ]
}